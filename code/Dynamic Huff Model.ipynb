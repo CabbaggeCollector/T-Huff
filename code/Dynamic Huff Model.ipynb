{
  "nbformat": 4,
  "nbformat_minor": 0,
  "metadata": {
    "kernelspec": {
      "display_name": "Python 3",
      "language": "python",
      "name": "python3"
    },
    "language_info": {
      "codemirror_mode": {
        "name": "ipython",
        "version": 3
      },
      "file_extension": ".py",
      "mimetype": "text/x-python",
      "name": "python",
      "nbconvert_exporter": "python",
      "pygments_lexer": "ipython3",
      "version": "3.6.7"
    },
    "colab": {
      "name": "Dynamic T-Huff Model.ipynb",
      "provenance": [],
      "collapsed_sections": []
    }
  },
  "cells": [
    {
      "cell_type": "markdown",
      "metadata": {
        "id": "U9NguYGtHPUV",
        "colab_type": "text"
      },
      "source": [
        "# Code for implementing the traditional Huff and the time-aware dynamic Huff model (T-Huff)"
      ]
    },
    {
      "cell_type": "markdown",
      "metadata": {
        "id": "OWnSLCB6HPUW",
        "colab_type": "text"
      },
      "source": [
        "### Reference: Liang, Y., Gao, S., Cai, Y., Foutz, N. Z., & Wu, L. (2020). Calibrating the dynamic Huff model for business analysis using location big data. Transactions in GIS. 24(3), 1-23. DOI: 10.1111/tgis.12624. arXiv preprint available at https://arxiv.org/abs/2003.10857.\n",
        "\n",
        "### Data: SafeGraph (https://shop.safegraph.com/)\n",
        "\n",
        "<img src=\"https://geods.geography.wisc.edu/wp-content/uploads/2020/04/tgis12624_prediction.jpg\"\n",
        "     alt=\"Prediction vs. Actual\"\n",
        "     style=\"float: left; margin-right: 10px;\" />"
      ]
    },
    {
      "cell_type": "markdown",
      "metadata": {
        "id": "o8ggVCEmHPUW",
        "colab_type": "text"
      },
      "source": [
        "# import the pyswarms lib"
      ]
    },
    {
      "cell_type": "code",
      "metadata": {
        "scrolled": true,
        "id": "b40XA9VlHPUX",
        "colab_type": "code",
        "colab": {
          "base_uri": "https://localhost:8080/",
          "height": 309
        },
        "outputId": "547091dd-f65b-4f1c-cb8f-637ec94a27da"
      },
      "source": [
        "import sys\n",
        "!{sys.executable} -m pip install pyswarms"
      ],
      "execution_count": 1,
      "outputs": [
        {
          "output_type": "stream",
          "text": [
            "Collecting pyswarms\n",
            "\u001b[?25l  Downloading https://files.pythonhosted.org/packages/0b/6f/42605c4e111a08a8fbaba953d0783c56ad2913ffa5959bdac53f649502a2/pyswarms-1.1.0-py2.py3-none-any.whl (96kB)\n",
            "\r\u001b[K     |███▍                            | 10kB 17.3MB/s eta 0:00:01\r\u001b[K     |██████▉                         | 20kB 3.2MB/s eta 0:00:01\r\u001b[K     |██████████▎                     | 30kB 4.1MB/s eta 0:00:01\r\u001b[K     |█████████████▋                  | 40kB 2.9MB/s eta 0:00:01\r\u001b[K     |█████████████████               | 51kB 3.2MB/s eta 0:00:01\r\u001b[K     |████████████████████▌           | 61kB 3.9MB/s eta 0:00:01\r\u001b[K     |███████████████████████▉        | 71kB 4.1MB/s eta 0:00:01\r\u001b[K     |███████████████████████████▎    | 81kB 4.3MB/s eta 0:00:01\r\u001b[K     |██████████████████████████████▊ | 92kB 4.8MB/s eta 0:00:01\r\u001b[K     |████████████████████████████████| 102kB 4.0MB/s \n",
            "\u001b[?25hRequirement already satisfied: matplotlib>=1.3.1 in /usr/local/lib/python3.6/dist-packages (from pyswarms) (3.2.1)\n",
            "Requirement already satisfied: future in /usr/local/lib/python3.6/dist-packages (from pyswarms) (0.16.0)\n",
            "Requirement already satisfied: scipy in /usr/local/lib/python3.6/dist-packages (from pyswarms) (1.4.1)\n",
            "Requirement already satisfied: attrs in /usr/local/lib/python3.6/dist-packages (from pyswarms) (19.3.0)\n",
            "Requirement already satisfied: tqdm in /usr/local/lib/python3.6/dist-packages (from pyswarms) (4.38.0)\n",
            "Requirement already satisfied: numpy in /usr/local/lib/python3.6/dist-packages (from pyswarms) (1.18.3)\n",
            "Requirement already satisfied: python-dateutil>=2.1 in /usr/local/lib/python3.6/dist-packages (from matplotlib>=1.3.1->pyswarms) (2.8.1)\n",
            "Requirement already satisfied: cycler>=0.10 in /usr/local/lib/python3.6/dist-packages (from matplotlib>=1.3.1->pyswarms) (0.10.0)\n",
            "Requirement already satisfied: pyparsing!=2.0.4,!=2.1.2,!=2.1.6,>=2.0.1 in /usr/local/lib/python3.6/dist-packages (from matplotlib>=1.3.1->pyswarms) (2.4.7)\n",
            "Requirement already satisfied: kiwisolver>=1.0.1 in /usr/local/lib/python3.6/dist-packages (from matplotlib>=1.3.1->pyswarms) (1.2.0)\n",
            "Requirement already satisfied: six>=1.5 in /usr/local/lib/python3.6/dist-packages (from python-dateutil>=2.1->matplotlib>=1.3.1->pyswarms) (1.12.0)\n",
            "Installing collected packages: pyswarms\n",
            "Successfully installed pyswarms-1.1.0\n"
          ],
          "name": "stdout"
        }
      ]
    },
    {
      "cell_type": "code",
      "metadata": {
        "id": "kIlVBlByHPUa",
        "colab_type": "code",
        "colab": {}
      },
      "source": [
        "# Import modules\n",
        "import numpy as np\n",
        "\n",
        "# Import PySwarms\n",
        "#import pyswarms as ps\n",
        "from pyswarms.utils.functions import single_obj as fx\n",
        "\n",
        "# Some more magic so that the notebook will reload external python modules;\n",
        "# see http://stackoverflow.com/questions/1907993/autoreload-of-modules-in-ipython\n",
        "#%load_ext autoreload\n",
        "#%autoreload 2"
      ],
      "execution_count": 0,
      "outputs": []
    },
    {
      "cell_type": "markdown",
      "metadata": {
        "id": "GUu2ArAaHPUd",
        "colab_type": "text"
      },
      "source": [
        "# define the Huff model"
      ]
    },
    {
      "cell_type": "code",
      "metadata": {
        "id": "IOUaIKERHPUd",
        "colab_type": "code",
        "colab": {}
      },
      "source": [
        "def HuffModel(mx,alpha,beta,att_field):\n",
        "    #get the sum of H (dinominator)\n",
        "    #print(alpha)\n",
        "    #print(beta)\n",
        "    cbg_sum = {}\n",
        "    for i,row in mx.iterrows():\n",
        "        if mx.loc[i][\"census_block_group\"] not in cbg_sum.keys():\n",
        "            A = mx.loc[i][att_field]\n",
        "            D = mx.loc[i][\"distance\"]\n",
        "            cbg_sum[mx.loc[i][\"census_block_group\"]] = HuffPro(A,D,alpha,beta)\n",
        "        else:\n",
        "            A = mx.loc[i][att_field]\n",
        "            D = mx.loc[i][\"distance\"]\n",
        "            cbg_sum[mx.loc[i][\"census_block_group\"]] += HuffPro(A,D,alpha,beta)\n",
        "    mx[\"pro\"] = \"\"\n",
        "    mx[\"h_sum\"] = \"\"\n",
        "    for i,row in mx.iterrows():\n",
        "        mx.loc[i,\"h_sum\"] = cbg_sum[mx.loc[i][\"census_block_group\"]]\n",
        "        A = mx.loc[i][att_field]\n",
        "        D = mx.loc[i][\"distance\"]\n",
        "        mx.loc[i,\"pro\"] =  HuffPro(A,D,alpha,beta)/mx.loc[i][\"h_sum\"]\n",
        "    return mx\n",
        "    "
      ],
      "execution_count": 0,
      "outputs": []
    },
    {
      "cell_type": "code",
      "metadata": {
        "id": "32QABxyDHPUg",
        "colab_type": "code",
        "colab": {}
      },
      "source": [
        "def HuffPro(A,D,alpha,beta):\n",
        "    return pow(A,alpha)/pow(D,beta)"
      ],
      "execution_count": 0,
      "outputs": []
    },
    {
      "cell_type": "code",
      "metadata": {
        "id": "_rZWWmgnHPUi",
        "colab_type": "code",
        "colab": {}
      },
      "source": [
        "#\"Whole Foods Market\"\n",
        "def Corr(mx,alpha,beta,att_field,location_name):\n",
        "    mx_hf = HuffModel(mx,alpha,beta,att_field)\n",
        "    mx_hf[\"pro\"] = mx_hf[\"pro\"].astype(float)\n",
        "    mx_hf[\"actual_pro\"] = mx_hf[\"actual_pro\"].astype(float)\n",
        "    mx_hf_location = mx_hf[mx_hf[\"location_name\"] == location_name]\n",
        "    cor = mx_hf_location[[\"actual_pro\",\"pro\"]].corr().values[0][1]\n",
        "    #cor_total = mx_hf[[\"actual_pro\",\"pro\"]].corr().values[0][1]\n",
        "    return mx_hf, cor"
      ],
      "execution_count": 0,
      "outputs": []
    },
    {
      "cell_type": "code",
      "metadata": {
        "id": "cRxCO1ygHPUl",
        "colab_type": "code",
        "colab": {}
      },
      "source": [
        "def THuffModelHourlyLocation(mx,alpha,beta,att_field,location_name,hourlyfield):\n",
        "    cbg_sum = {}\n",
        "    for i,row in mx.iterrows():\n",
        "        if mx.loc[i][\"census_block_group\"] not in cbg_sum.keys():\n",
        "            A = mx.loc[i][att_field]\n",
        "            D = mx.loc[i][\"distance\"]\n",
        "            cbg_sum[mx.loc[i][\"census_block_group\"]] = HuffPro(A,D,alpha,beta)\n",
        "        else:\n",
        "            A = mx.loc[i][att_field]\n",
        "            D = mx.loc[i][\"distance\"]\n",
        "            cbg_sum[mx.loc[i][\"census_block_group\"]] += HuffPro(A,D,alpha,beta)\n",
        "    mx_location = mx[mx[\"location_name\"] == location_name]\n",
        "    mx_location[\"pro_total\"] = \"\"\n",
        "    mx_location[\"h_sum\"] = \"\"\n",
        "    mx_location[\"pro_hourly_est\"] = \"\"\n",
        "    mx_location[\"pro_hourly_actual\"] = \"\"\n",
        "    for i,row in mx_location.iterrows():\n",
        "        mx_location.loc[i,\"h_sum\"] = cbg_sum[mx_location.loc[i][\"census_block_group\"]]\n",
        "        A = mx_location.loc[i][att_field]\n",
        "        D = mx_location.loc[i][\"distance\"]\n",
        "        mx_location.loc[i,\"pro_total\"] =  HuffPro(A,D,alpha,beta)/mx_location.loc[i][\"h_sum\"]\n",
        "        tem_dic_est = {}\n",
        "        tem_dic_act = {}\n",
        "        for key in mx_location.loc[i][hourlyfield].keys():\n",
        "            tem_dic_est[key] = [x*mx_location.loc[i][\"pro_total\"] for x in mx_location.loc[i][hourlyfield][key]]\n",
        "            tem_dic_act[key] = [x*mx_location.loc[i][\"actual_pro\"] for x in mx_location.loc[i][hourlyfield][key]]\n",
        "        mx_location.loc[i,\"pro_hourly_est\"] = [tem_dic_est]\n",
        "        mx_location.loc[i,\"pro_hourly_actual\"] = [tem_dic_act]\n",
        "    return mx_location"
      ],
      "execution_count": 0,
      "outputs": []
    },
    {
      "cell_type": "code",
      "metadata": {
        "id": "CVSBxuRsHPUo",
        "colab_type": "code",
        "colab": {}
      },
      "source": [
        "def CorrHourlyLocation(mx,alpha,beta,att_field,location_name,hourlyfield,actual_field,est_field):\n",
        "    mx_hf_location = THuffModelHourlyLocation(mx,alpha,beta,att_field,location_name,hourlyfield)\n",
        "    #print(mx_hf)\n",
        "    actual_list = []\n",
        "    est_list = []\n",
        "    for i,row in mx_hf_location.iterrows():\n",
        "        actual_list.extend(mx_hf_location.loc[i][actual_field]['Monday'])\n",
        "        actual_list.extend(mx_hf_location.loc[i][actual_field]['Tuesday'])\n",
        "        actual_list.extend(mx_hf_location.loc[i][actual_field]['Wednesday'])\n",
        "        actual_list.extend(mx_hf_location.loc[i][actual_field]['Thursday'])\n",
        "        actual_list.extend(mx_hf_location.loc[i][actual_field]['Friday'])\n",
        "        actual_list.extend(mx_hf_location.loc[i][actual_field]['Saturday'])\n",
        "        actual_list.extend(mx_hf_location.loc[i][actual_field]['Sunday'])\n",
        "        est_list.extend(mx_hf_location.loc[i][est_field]['Monday'])\n",
        "        est_list.extend(mx_hf_location.loc[i][est_field]['Tuesday'])\n",
        "        est_list.extend(mx_hf_location.loc[i][est_field]['Wednesday'])\n",
        "        est_list.extend(mx_hf_location.loc[i][est_field]['Thursday'])\n",
        "        est_list.extend(mx_hf_location.loc[i][est_field]['Friday'])\n",
        "        est_list.extend(mx_hf_location.loc[i][est_field]['Saturday'])\n",
        "        est_list.extend(mx_hf_location.loc[i][est_field]['Sunday'])\n",
        "        #print(actual_list)\n",
        "        #print(est_list)\n",
        "        cor = numpy.corrcoef(actual_list,est_list)[0][1]\n",
        "    return mx_hf_location, cor"
      ],
      "execution_count": 0,
      "outputs": []
    },
    {
      "cell_type": "markdown",
      "metadata": {
        "id": "znozgyAjHPUq",
        "colab_type": "text"
      },
      "source": [
        "# Read the data we processed. More raw data can be found from SafeGraph Inc. "
      ]
    },
    {
      "cell_type": "code",
      "metadata": {
        "id": "VMMEOybTHPUr",
        "colab_type": "code",
        "colab": {}
      },
      "source": [
        "import pandas as pd\n",
        "import numpy\n",
        "infile = \"la_wholefoods.csv\"\n",
        "mx = pd.read_csv(infile,dtype={'census_block_group': str})\n",
        "mx[\"raw_visit_counts\"] = mx[\"raw_visit_counts\"].astype(float)\n",
        "mx[\"distance\"] = mx[\"distance\"].astype(float)\n",
        "import ast\n",
        "for i,row in mx.iterrows():\n",
        "    mx.at[i,\"popularity_day_pro\"] = ast.literal_eval(mx.iloc[i][\"popularity_day_pro\"])\n",
        "    mx.at[i,\"popularity_hourly_pro\"] = ast.literal_eval(mx.iloc[i][\"popularity_hourly_pro\"])"
      ],
      "execution_count": 0,
      "outputs": []
    },
    {
      "cell_type": "code",
      "metadata": {
        "id": "a_FygNC6SkeO",
        "colab_type": "code",
        "colab": {}
      },
      "source": [
        ""
      ],
      "execution_count": 0,
      "outputs": []
    },
    {
      "cell_type": "markdown",
      "metadata": {
        "id": "crd6MasNHPUt",
        "colab_type": "text"
      },
      "source": [
        "# Traditonal Huff model"
      ]
    },
    {
      "cell_type": "markdown",
      "metadata": {
        "id": "Gs2wYFX-HPUt",
        "colab_type": "text"
      },
      "source": [
        "## can input alpha, beta directly to get the correlation."
      ]
    },
    {
      "cell_type": "code",
      "metadata": {
        "id": "a4PA3dLvHPUu",
        "colab_type": "code",
        "colab": {}
      },
      "source": [
        "alpha_list_ori_detailed = [0.1,0.5,1,2,5]\n",
        "beta_list = [0.1,0.5,1,2,5]\n",
        "result = {}\n",
        "for alpha in alpha_list_ori_detailed:\n",
        "    for beta in beta_list:\n",
        "        att_field = \"raw_visit_counts\"\n",
        "        location_name = \"Whole Foods Market\" \n",
        "        mx_hf,cor = Corr(mx,alpha,beta,att_field,location_name)\n",
        "        result[alpha,beta] = cor\n",
        "        print(alpha, \",\",beta,\": \",cor)"
      ],
      "execution_count": 0,
      "outputs": []
    },
    {
      "cell_type": "markdown",
      "metadata": {
        "id": "f90ZflxpHPUw",
        "colab_type": "text"
      },
      "source": [
        "## optimization to find the alpha, beta with a range (0,2)"
      ]
    },
    {
      "cell_type": "code",
      "metadata": {
        "id": "dPuB4-hIHPUx",
        "colab_type": "code",
        "colab": {}
      },
      "source": [
        "def PSOfunction_Huff(x): \n",
        "    print(x)\n",
        "    import timeit\n",
        "    #start_time = timeit.default_timer()\n",
        "    alpha = x[:,0]\n",
        "    beta = x[:,1]\n",
        "    i = 0\n",
        "    max_cor = -9999\n",
        "    att_field = \"raw_visit_counts\"\n",
        "    location_name = \"Whole Foods Market\"\n",
        "    n_particles = x.shape[0]\n",
        "    j = []\n",
        "    for i in range(n_particles):\n",
        "        mx_hf,cor = Corr(mx,alpha[i],beta[i],att_field,location_name)\n",
        "        j.append(-cor)\n",
        "    print(j)\n",
        "    return np.array(j)"
      ],
      "execution_count": 0,
      "outputs": []
    },
    {
      "cell_type": "code",
      "metadata": {
        "id": "3ENaAnsbHPU0",
        "colab_type": "code",
        "colab": {}
      },
      "source": [
        "from pyswarms.single.global_best import GlobalBestPSO\n",
        "\n",
        "#using Whole Foods with \n",
        "x_max = 2* np.ones(2)\n",
        "x_min = 0* np.ones(2)\n",
        "bounds = (x_min, x_max)\n",
        "print(bounds)\n",
        "options = {'c1': 2, 'c2': 2, 'w': 0.9}\n",
        "#init_pos = pos\n",
        "optimizer = GlobalBestPSO(n_particles=10, dimensions=2,options=options, bounds=bounds)\n",
        "\n",
        "#kwargs={\"mx\": mx}\n",
        "cost, pos = optimizer.optimize(PSOfunction_Huff, 10)"
      ],
      "execution_count": 0,
      "outputs": []
    },
    {
      "cell_type": "code",
      "metadata": {
        "id": "V0rmwrFvHPU2",
        "colab_type": "code",
        "colab": {}
      },
      "source": [
        "cost,pos"
      ],
      "execution_count": 0,
      "outputs": []
    },
    {
      "cell_type": "markdown",
      "metadata": {
        "id": "qdjKzBiLHPU4",
        "colab_type": "text"
      },
      "source": [
        "# T-Huff model"
      ]
    },
    {
      "cell_type": "markdown",
      "metadata": {
        "id": "jBwYuis-Rzz7",
        "colab_type": "text"
      },
      "source": [
        "## considering the temporal visit changes\n",
        "<img src=\"https://geods.geography.wisc.edu/wp-content/uploads/2020/04/tgis12624_HourlyPlot.png\"\n",
        "     alt=\"Preiction vs. Actual\"\n",
        "     style=\"float: left; margin-right: 10px;\" />"
      ]
    },
    {
      "cell_type": "markdown",
      "metadata": {
        "id": "V89Lb3mjHPU4",
        "colab_type": "text"
      },
      "source": [
        "## can input alpha, beta directly to get the correlation."
      ]
    },
    {
      "cell_type": "code",
      "metadata": {
        "id": "p78ul7VmHPU5",
        "colab_type": "code",
        "colab": {}
      },
      "source": [
        "alpha_list_ori_detailed = [0.1,0.5,1,2,5]\n",
        "beta_list = [0.1,0.5,1,2,5]\n",
        "result_dic_ori_detailed_hourly = {}\n",
        "for alpha in alpha_list_ori_detailed:\n",
        "    for beta in beta_list:\n",
        "        att_field = \"raw_visit_counts\"\n",
        "        location_name = \"Whole Foods Market\" \n",
        "        mx_hf,cor = CorrHourlyLocation(mx,alpha,beta,att_field,location_name,\"popularity_hourly_pro\",'pro_hourly_actual','pro_hourly_est')\n",
        "        result_dic_ori_detailed_hourly[alpha,beta] = cor\n",
        "        print(alpha, \",\",beta,\": \",cor)"
      ],
      "execution_count": 0,
      "outputs": []
    },
    {
      "cell_type": "markdown",
      "metadata": {
        "id": "uisLuo8mHPU7",
        "colab_type": "text"
      },
      "source": [
        "## can also just use optimation to get optimal alpha, beta"
      ]
    },
    {
      "cell_type": "code",
      "metadata": {
        "id": "482wKMmHHPU8",
        "colab_type": "code",
        "colab": {}
      },
      "source": [
        "def PSOfunction_THuff(x): \n",
        "    print(x)\n",
        "    import timeit\n",
        "    #start_time = timeit.default_timer()\n",
        "    alpha = x[:,0]\n",
        "    beta = x[:,1]\n",
        "    i = 0\n",
        "    max_cor = -9999\n",
        "    att_field = \"raw_visit_counts\"\n",
        "    location_name = \"Whole Foods Market\"\n",
        "    n_particles = x.shape[0]\n",
        "    j = []\n",
        "    for i in range(n_particles):\n",
        "        mx_hf,cor = CorrHourlyLocation(mx,alpha[i],beta[i],att_field,location_name,\"popularity_hourly_pro\",'pro_hourly_actual','pro_hourly_est')\n",
        "        j.append(-cor)\n",
        "    print(j)\n",
        "    return np.array(j)"
      ],
      "execution_count": 0,
      "outputs": []
    },
    {
      "cell_type": "code",
      "metadata": {
        "id": "fxwo0juPHPU-",
        "colab_type": "code",
        "outputId": "7832cea2-ee3f-4c16-9c54-a534492d8898",
        "colab": {}
      },
      "source": [
        "from pyswarms.single.global_best import GlobalBestPSO\n",
        "\n",
        "#using Whole Foods with \n",
        "x_max = 2* np.ones(2)\n",
        "x_min = 0* np.ones(2)\n",
        "bounds = (x_min, x_max)\n",
        "print(bounds)\n",
        "options = {'c1': 2, 'c2': 2, 'w': 0.9}\n",
        "#init_pos = pos\n",
        "optimizer = GlobalBestPSO(n_particles=10, dimensions=2,options=options, bounds=bounds)\n",
        "\n",
        "#kwargs={\"mx\": mx}\n",
        "cost, pos = optimizer.optimize(PSOfunction_THuff, 10)"
      ],
      "execution_count": 0,
      "outputs": [
        {
          "output_type": "stream",
          "text": [
            "(array([0., 0.]), array([2., 2.]))\n"
          ],
          "name": "stdout"
        }
      ]
    },
    {
      "cell_type": "code",
      "metadata": {
        "id": "tcAL2C_WHPVB",
        "colab_type": "code",
        "colab": {}
      },
      "source": [
        "cost, pos"
      ],
      "execution_count": 0,
      "outputs": []
    },
    {
      "cell_type": "markdown",
      "metadata": {
        "id": "8_kuMFf1HPVD",
        "colab_type": "text"
      },
      "source": [
        "## output the data for mapping in Huff model"
      ]
    },
    {
      "cell_type": "code",
      "metadata": {
        "scrolled": true,
        "id": "0mi1yr9SHPVE",
        "colab_type": "code",
        "colab": {}
      },
      "source": [
        "att_field = \"raw_visit_counts\"\n",
        "location_name = \"Whole Foods Market\"\n",
        "pos = [0.717,0.805]\n",
        "alpha = pos[0]\n",
        "beta = pos[1]\n",
        "mx_hf,cor = Corr(mx,alpha,beta,att_field,location_name)"
      ],
      "execution_count": 0,
      "outputs": []
    },
    {
      "cell_type": "code",
      "metadata": {
        "id": "f6hVnhPzHPVG",
        "colab_type": "code",
        "outputId": "d8ff4c60-9cec-476f-f96b-62bc0847d676",
        "colab": {}
      },
      "source": [
        "cor"
      ],
      "execution_count": 0,
      "outputs": [
        {
          "output_type": "execute_result",
          "data": {
            "text/plain": [
              "0.8643218199446577"
            ]
          },
          "metadata": {
            "tags": []
          },
          "execution_count": 54
        }
      ]
    },
    {
      "cell_type": "code",
      "metadata": {
        "id": "xka4WW6UHPVI",
        "colab_type": "code",
        "colab": {}
      },
      "source": [
        "mx_hf_wholefoods = mx_hf[mx_hf['location_name'] == \"Whole Foods Market\"]"
      ],
      "execution_count": 0,
      "outputs": []
    },
    {
      "cell_type": "code",
      "metadata": {
        "id": "AjwTibdlHPVK",
        "colab_type": "code",
        "colab": {}
      },
      "source": [
        "list1 = mx_hf_wholefoods['actual_pro']\n",
        "list2 = mx_hf_wholefoods['pro']"
      ],
      "execution_count": 0,
      "outputs": []
    },
    {
      "cell_type": "code",
      "metadata": {
        "id": "UHeQlVDAHPVM",
        "colab_type": "code",
        "outputId": "d0cce5ac-bc7c-43f4-e337-bd87dce57a23",
        "colab": {}
      },
      "source": [
        "numpy.corrcoef(list1,list2)"
      ],
      "execution_count": 0,
      "outputs": [
        {
          "output_type": "execute_result",
          "data": {
            "text/plain": [
              "array([[1.        , 0.86432182],\n",
              "       [0.86432182, 1.        ]])"
            ]
          },
          "metadata": {
            "tags": []
          },
          "execution_count": 48
        }
      ]
    },
    {
      "cell_type": "markdown",
      "metadata": {
        "id": "3offnqn1HPVP",
        "colab_type": "text"
      },
      "source": [
        "## The correlation result for the estimated hourly visit probability using the T-Huff model compared to the actual visit probability observed in SafeGraph POI visits."
      ]
    },
    {
      "cell_type": "code",
      "metadata": {
        "id": "Iv0JVtHBHPVP",
        "colab_type": "code",
        "colab": {}
      },
      "source": [
        "att_field = \"raw_visit_counts\"\n",
        "location_name = \"Whole Foods Market\"\n",
        "pos = [0.787,0.765]\n",
        "alpha = pos[0]\n",
        "beta = pos[1]\n",
        "mx_hf,cor = CorrHourlyLocation(mx,alpha,beta,att_field,location_name,\"popularity_hourly_pro\",'pro_hourly_actual','pro_hourly_est')"
      ],
      "execution_count": 0,
      "outputs": []
    },
    {
      "cell_type": "code",
      "metadata": {
        "id": "IYOXZ6iXHPVR",
        "colab_type": "code",
        "outputId": "f264601c-5e40-494c-867e-a873044b5ca4",
        "colab": {}
      },
      "source": [
        "cor"
      ],
      "execution_count": 0,
      "outputs": [
        {
          "output_type": "execute_result",
          "data": {
            "text/plain": [
              "0.8897300294403433"
            ]
          },
          "metadata": {
            "tags": []
          },
          "execution_count": 51
        }
      ]
    }
  ]
}
